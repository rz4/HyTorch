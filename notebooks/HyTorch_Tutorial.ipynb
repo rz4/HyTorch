{
 "cells": [
  {
   "cell_type": "markdown",
   "metadata": {},
   "source": [
    "![LOGO](logo.png)\n",
    "# (eval '(HyTorch Tutorial))\n",
    "Introduction to PyTorch Meta-Programming Using the Lisp Dialect Hy\n",
    "\n",
    "Lead Maintainer: [Rafael Zamora-Resendiz](https://github.com/rz4)\n",
    "\n",
    "**HyTorch** is a Hy (0.16.0) library running Python (3.7) and PyTorch (1.0.1)\n",
    "for use in rapid low-level development of deep learning (DL) systems as well as\n",
    "for experiments in DL meta-programming.\n",
    "\n",
    "##### Table of Contents\n",
    "1. [Motivation](#s1)\n",
    "2. [Installation](#s2)\n",
    "3. [Hy: Lisp Flavored Python](#s3)\n",
    "4. [Hytorch in Action](#s4)\n",
    "    1. [Pytorch Models as S-Expressions](#s41)\n",
    "    2. [S-Expression Threading](#s42)\n",
    "    3. [Pattern Matching](#s43)\n",
    "    4. [S-Expression Refactoring](#s44)\n",
    "    5. [Full Network Training Example](#s45)\n",
    "5. [Network Analysis and Meta-Analysis Using HyTorch](#s5)\n",
    "    1. [Fetching Internal Network Components](#s51)\n",
    "    2. [Probing Networks Using Tests](#s52)\n",
    "    3. [Loading Foriegn Pytorch Models](#s53)\n",
    "    4. [Comparing Network Architectures](#s54)\n",
    "6. [FUTURE:Hyper-Parameter Search Using Genetic Programming]()\n",
    "    \n",
    "---\n",
    "\n",
    "<a name=\"s1\"></a>\n",
    "## Motivation\n",
    "The dynamic execution of PyTorch operations allows enough flexibility to change\n",
    "computational graphs on the fly. This provides an avenue for Hy, a lisp-binding\n",
    "library for Python, to be used in establishing meta-programming practices in the\n",
    "field of deep learning.\n",
    "\n",
    "While the final goal of this project is to build a framework for DL systems to have\n",
    "access to their own coding, this coding paradigm also shows promise at accelerating the development of new deep learning models while providing significant access to low-torch tensor operations at runtime. A common trend in current DL packages is an abundance of object-oriented abstraction with packages such as Keras. This only reduces transparity to the already black-box nature of NN systems, and makes interpretability and reproducibility of models even more difficult.\n",
    "\n",
    "In order to better understand NN models and allow for quick iterative design\n",
    "over novel or esoteric architectures, a deep learning programmer requires access to an\n",
    "environment that allows low-level definition of tensor graphs and provides methods to quickly access network components for analysis, while still providing a framework to manage large architectures. I believe that the added expressability of Lisp in combination with PyTorch's functional API allows for this type of programming paradigm, and provides DL researchers an extendable framework which cannot be matched by any other abstracted NN packages.\n",
    "\n",
    "<a name=\"s2\"></a>\n",
    "## Installation\n",
    "\n",
    "The current project has been tested using Hy 0.16.0, PyTorch 1.0.1.post2 and\n",
    "Python 3.7. The following ***Pip*** command can be used to install **HyTorch**:\n",
    "\n",
    "```\n",
    "$ pip3 install git+https://github.com/rz4/HyTorch\n",
    "```\n",
    "---\n",
    "\n",
    "<a name=\"s3\"></a>\n",
    "## Hy: Lisp Flavored Python\n",
    "\n",
    "\"Hy is a dialect of the language Lisp designed to interact with Python by translating expressions into Python's abstract syntax tree (AST). Similar to Clojure's mapping of s-expressions onto the Java virtual machine (JVM), Hy is meant to operate as a transparent Lisp front end to Python. Lisp allows operating on code as data (metaprogramming). Thus, Hy can be used to write domain-specific languages. Hy also allows Python libraries, including the standard library, to be imported and accessed alongside Hy code with a compiling step converting the data structure of both into Python's AST.\" [Source: Wikipedia]()\n",
    "\n",
    "I recommend looking over the [Hy documentation](http://docs.hylang.org/en/stable/tutorial.html) as they do a good job showcasing the various features of Hy. In short, Hy provides a Python-friendly Lisp which anyone who knows Python can easy pickup. Plus, you can import any Python code into Hy as well as importing Hy code to Python! Here is just a little tast of how Hy looks like: "
   ]
  },
  {
   "cell_type": "code",
   "execution_count": null,
   "metadata": {},
   "outputs": [],
   "source": [
    "; Lisp-style Comments\n",
    "\n",
    ";; Define function hello-world\n",
    "(defn hello-world [name] (print \"Hello\" name \"! It's a great day to be Lisping!\"))\n",
    "\n",
    ";; Evaluate\n",
    "(hello-world \"FooManCHEW\")"
   ]
  },
  {
   "cell_type": "code",
   "execution_count": null,
   "metadata": {},
   "outputs": [],
   "source": [
    "; Importing Numpy\n",
    "(import [numpy :as np])\n",
    "\n",
    "; Still be able to access attribute functions using dot notation\n",
    "(setv x (np.ones '(10 10)))\n",
    "(print x)"
   ]
  },
  {
   "cell_type": "markdown",
   "metadata": {},
   "source": [
    "---\n",
    "<a name=\"s4\"></a>\n",
    "## HyTorch In Action\n",
    "\n",
    "<a name=\"s41\"></a>\n",
    "### Pytorch Models as S-Expressions:"
   ]
  },
  {
   "cell_type": "code",
   "execution_count": 4,
   "metadata": {},
   "outputs": [
    {
     "data": {
      "text/plain": [
       "[None, True, None]"
      ]
     },
     "execution_count": 4,
     "metadata": {},
     "output_type": "execute_result"
    }
   ],
   "source": [
    "; Importing Hytorch Tools and PyTorch\n",
    "(import [hytorch.core [*]])\n",
    "(require [hytorch.thread [*]])\n",
    "(import torch)\n",
    "\n",
    "; Defining leaf tensors and initializing\n",
    "\n",
    "; Defining a simple feed-forward NN\n",
    "\n",
    "; Running Forward Propagation"
   ]
  },
  {
   "cell_type": "markdown",
   "metadata": {},
   "source": [
    "<a name=\"s42\"></a>\n",
    "### S-Expression Threading:\n",
    "Hy has some pre-built threading macros to help write nested functions in inline\n",
    "notation. This is a great start, but can be imporved with some more advanced features to keep with inline notation while providing argument broadcasting and multidimensional threading for more complex computational graphs."
   ]
  },
  {
   "cell_type": "code",
   "execution_count": null,
   "metadata": {},
   "outputs": [],
   "source": []
  },
  {
   "cell_type": "markdown",
   "metadata": {},
   "source": [
    "<a name=\"s43\"></a>\n",
    "### Pattern Matching:\n",
    "\n",
    "<a name=\"s44\"></a>\n",
    "### S-Expression Refactoring:\n",
    "\n",
    "<a name=\"s45\"></a>\n",
    "### Full Network Training Example:"
   ]
  },
  {
   "cell_type": "code",
   "execution_count": null,
   "metadata": {},
   "outputs": [],
   "source": []
  },
  {
   "cell_type": "markdown",
   "metadata": {},
   "source": [
    "---\n",
    "<a name=\"s5\"></a>\n",
    "## Network Analysis and Meta-Analysis Using HyTorch\n",
    "\n",
    "<a name=\"s51\"></a>\n",
    "### Fetching Internal Network Components:\n",
    "\n",
    "<a name=\"s52\"></a>\n",
    "### Probing Networks Using Tests:\n",
    "\n",
    "<a name=\"s53\"></a>\n",
    "### Loading Foreign Pytorch Models:\n",
    "\n",
    "<a name=\"s54\"></a>\n",
    "### Comparing Network Architectures:"
   ]
  },
  {
   "cell_type": "code",
   "execution_count": null,
   "metadata": {},
   "outputs": [],
   "source": []
  }
 ],
 "metadata": {
  "kernelspec": {
   "display_name": "Calysto Hy",
   "language": "hy",
   "name": "calysto_hy"
  },
  "language_info": {
   "codemirror_mode": {
    "name": "scheme"
   },
   "mimetype": "text/x-hylang",
   "name": "hy",
   "pygments_lexer": "lisp"
  }
 },
 "nbformat": 4,
 "nbformat_minor": 2
}
