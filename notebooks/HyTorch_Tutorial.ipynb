{
 "cells": [
  {
   "cell_type": "markdown",
   "metadata": {},
   "source": [
    "![LOGO](logo.png)\n",
    "# HyTorch <- (+ Hy PyTorch)\n",
    "PyTorch Manipulation Using the Lisp Dialect Hy\n",
    "\n",
    "Lead Maintainer: [Rafael Zamora-Resendiz](https://github.com/rz4)\n",
    "\n",
    "**HyTorch** is a Hy (0.16.0) library running Python (3.7) and Pytorch (1.0.1)\n",
    "for use in rapid low-level development of deep learning systems as well as\n",
    "for experiments in DL meta-programming.\n",
    "\n",
    "## Motivation\n",
    "The dynamic execution of Pytorch operations allows enough flexibity to change\n",
    "computational graphs on the fly which provides an avenue for Hy to be used in\n",
    "establishing meta-programming practices in the field of deep learning.\n",
    "\n",
    "While the final goal of this project is to build a framework for DL systems to have\n",
    "access to their own coding, this coding paradigm\n",
    "also shows promise at accelerating the development of new deep learning models\n",
    "while providing significant access to the low-torch tensor operation at runtime.\n",
    "A common trend in current DL packages is an abundance of object-oriented abstraction with\n",
    "packages such as Keras. This only reduces transparity to the already black-box nature of NN\n",
    "systems, and makes reproducibilty of models even more difficult.\n",
    "\n",
    "In order to better understand NN models and allow for quick iterative design\n",
    "over novel or esoteric architectures, a deep learning programmer requires access to an\n",
    "environment for working with low level definitions of tensor operations and methods to quickly access network\n",
    "components for analysis, while still providing a framework to manage large architectures. I\n",
    "beleive that the added expressability of Lisp in combiation with PyTorch's functional API allows for this type of programming paradigm, and\n",
    "provides DL researchers an extendable framework which cannot be matched by any other\n",
    "abstracted NN packages."
   ]
  },
  {
   "cell_type": "code",
   "execution_count": 1,
   "metadata": {},
   "outputs": [
    {
     "data": {
      "text/plain": [
       "[None, 3]"
      ]
     },
     "execution_count": 1,
     "metadata": {},
     "output_type": "execute_result"
    }
   ],
   "source": [
    "; Lisp Style Comments\n",
    "\n",
    ";; Define function\n",
    "(defn add [x y] (+ x y))\n",
    "\n",
    ";; Evaluate\n",
    "(add 1 2)"
   ]
  },
  {
   "cell_type": "code",
   "execution_count": 1,
   "metadata": {},
   "outputs": [
    {
     "data": {
      "text/plain": [
       "[None, None]"
      ]
     },
     "execution_count": 1,
     "metadata": {},
     "output_type": "execute_result"
    }
   ],
   "source": [
    "(import torch)\n",
    "\n",
    "; Checking for available cuda device\n",
    "(setv device (torch.device \n",
    "               (if (.is_available torch.cuda) \"cuda:0\" \"cpu\")))"
   ]
  },
  {
   "cell_type": "code",
   "execution_count": 2,
   "metadata": {},
   "outputs": [
    {
     "name": "stdout",
     "output_type": "stream",
     "text": [
      "cpu\n"
     ]
    },
    {
     "data": {
      "text/plain": [
       "[None]"
      ]
     },
     "execution_count": 2,
     "metadata": {},
     "output_type": "execute_result"
    }
   ],
   "source": [
    "(print device)"
   ]
  }
 ],
 "metadata": {
  "kernelspec": {
   "display_name": "Calysto Hy",
   "language": "hy",
   "name": "calysto_hy"
  },
  "language_info": {
   "codemirror_mode": {
    "name": "scheme"
   },
   "mimetype": "text/x-hylang",
   "name": "hy",
   "pygments_lexer": "lisp"
  }
 },
 "nbformat": 4,
 "nbformat_minor": 2
}
